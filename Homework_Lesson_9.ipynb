{
  "nbformat": 4,
  "nbformat_minor": 0,
  "metadata": {
    "colab": {
      "provenance": [],
      "toc_visible": true
    },
    "kernelspec": {
      "name": "python3",
      "display_name": "Python 3"
    },
    "language_info": {
      "name": "python"
    }
  },
  "cells": [
    {
      "cell_type": "markdown",
      "source": [
        "Задача 40: Работать с файлом california_housing_train.csv, который находится в папке sample_data. Определить среднюю стоимость дома, где кол-во людей от 0 до 500 (population).\n"
      ],
      "metadata": {
        "id": "58KrQtF8W3Fh"
      }
    },
    {
      "cell_type": "code",
      "execution_count": null,
      "metadata": {
        "id": "8WzAf5zEWKOk"
      },
      "outputs": [],
      "source": [
        "import pandas as pd"
      ]
    },
    {
      "cell_type": "code",
      "source": [
        "df=pd.read_csv(\"/content/sample_data/california_housing_train.csv\")"
      ],
      "metadata": {
        "id": "da1q0bMqWcor"
      },
      "execution_count": null,
      "outputs": []
    },
    {
      "cell_type": "code",
      "source": [
        "df.head()"
      ],
      "metadata": {
        "id": "K04l_ZMoYBY1"
      },
      "execution_count": null,
      "outputs": []
    },
    {
      "cell_type": "code",
      "source": [
        "df[(df[\"population\"]>0)&(df[\"population\"]<500)][\"median_house_value\"].mean()"
      ],
      "metadata": {
        "id": "fH6zAIhfaL3X"
      },
      "execution_count": null,
      "outputs": []
    },
    {
      "cell_type": "code",
      "source": [
        "df[(df[\"population\"]>0)&(df[\"population\"]<500)].median_house_value.mean()"
      ],
      "metadata": {
        "id": "FYtc0aLbXCD0"
      },
      "execution_count": null,
      "outputs": []
    },
    {
      "cell_type": "markdown",
      "source": [
        "Задача 42: Узнать какая максимальная households в зоне минимального значения population."
      ],
      "metadata": {
        "id": "-tMkgg5QZL5c"
      }
    },
    {
      "cell_type": "code",
      "source": [
        "df[df['population'] == df['population'].min()][\"households\"].max()"
      ],
      "metadata": {
        "id": "B0ainJV6awQf"
      },
      "execution_count": null,
      "outputs": []
    },
    {
      "cell_type": "code",
      "source": [
        "df[df['population'] == df['population'].min()].households.max()"
      ],
      "metadata": {
        "id": "--NN3x6XapbN"
      },
      "execution_count": null,
      "outputs": []
    }
  ]
}